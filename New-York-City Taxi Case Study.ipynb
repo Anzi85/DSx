{
 "cells": [
  {
   "cell_type": "markdown",
   "metadata": {},
   "source": [
    "<center><a href=\"https://www.featuretools.com/\"><img src=\"img/featuretools-logo.png\" width=\"400\" height=\"200\" /></a></center>"
   ]
  },
  {
   "cell_type": "markdown",
   "metadata": {},
   "source": [
    "## New York City Taxi Ride Duration Prediction </h2>\n",
    "\n",
    "In this case study, we will build a predictive model to predict taxi ride ``duration``. We will do the following steps:\n",
    "\n",
    "* First load the data \n",
    "* Define the outcome variable- the variable we are trying to predict. \n",
    "* Build features using featuretools package - that implements Deep Feature Synthesis. We will start with simple features and incrementally improve the feature definitions and examine the accuracy of the system. "
   ]
  },
  {
   "cell_type": "code",
   "execution_count": 59,
   "metadata": {},
   "outputs": [
    {
     "name": "stdout",
     "output_type": "stream",
     "text": [
      "The autoreload extension is already loaded. To reload it, use:\n",
      "  %reload_ext autoreload\n"
     ]
    }
   ],
   "source": [
    "import pandas as pd\n",
    "import numpy as np\n",
    "import featuretools as ft\n",
    "import utils\n",
    "from utils import load_nyc_taxi_data, compute_features\n",
    "from sklearn.metrics import mean_squared_error\n",
    "from math import sqrt\n",
    "ft.__version__\n",
    "%load_ext autoreload\n",
    "%autoreload 2"
   ]
  },
  {
   "cell_type": "markdown",
   "metadata": {},
   "source": [
    "### Step 1: Load the raw data  </h2>\n",
    "<p>If you have not yet downloaded the data it can be found at the <a href=\"\">from S3</a>. The data is already split in test and train. Both are csv files. \n",
    "</p>"
   ]
  },
  {
   "cell_type": "code",
   "execution_count": 44,
   "metadata": {},
   "outputs": [
    {
     "data": {
      "text/html": [
       "<div>\n",
       "<style>\n",
       "    .dataframe thead tr:only-child th {\n",
       "        text-align: right;\n",
       "    }\n",
       "\n",
       "    .dataframe thead th {\n",
       "        text-align: left;\n",
       "    }\n",
       "\n",
       "    .dataframe tbody tr th {\n",
       "        vertical-align: top;\n",
       "    }\n",
       "</style>\n",
       "<table border=\"1\" class=\"dataframe\">\n",
       "  <thead>\n",
       "    <tr style=\"text-align: right;\">\n",
       "      <th></th>\n",
       "      <th>id</th>\n",
       "      <th>dropoff_latitude</th>\n",
       "      <th>dropoff_longitude</th>\n",
       "      <th>passenger_count</th>\n",
       "      <th>payment_type</th>\n",
       "      <th>pickup_datetime</th>\n",
       "      <th>pickup_latitude</th>\n",
       "      <th>pickup_longitude</th>\n",
       "      <th>store_and_fwd_flag</th>\n",
       "      <th>test_data</th>\n",
       "      <th>trip_distance</th>\n",
       "      <th>trip_duration</th>\n",
       "      <th>vendor_id</th>\n",
       "    </tr>\n",
       "  </thead>\n",
       "  <tbody>\n",
       "    <tr>\n",
       "      <th>0</th>\n",
       "      <td>338479</td>\n",
       "      <td>40.716202</td>\n",
       "      <td>-74.014748</td>\n",
       "      <td>6</td>\n",
       "      <td>2</td>\n",
       "      <td>2016-01-01 00:00:45</td>\n",
       "      <td>40.726471</td>\n",
       "      <td>-73.994202</td>\n",
       "      <td>False</td>\n",
       "      <td>False</td>\n",
       "      <td>1.85</td>\n",
       "      <td>512.0</td>\n",
       "      <td>2</td>\n",
       "    </tr>\n",
       "    <tr>\n",
       "      <th>1</th>\n",
       "      <td>209890</td>\n",
       "      <td>40.712761</td>\n",
       "      <td>-74.009750</td>\n",
       "      <td>1</td>\n",
       "      <td>2</td>\n",
       "      <td>2016-01-01 00:00:52</td>\n",
       "      <td>40.744091</td>\n",
       "      <td>-73.995750</td>\n",
       "      <td>False</td>\n",
       "      <td>False</td>\n",
       "      <td>2.50</td>\n",
       "      <td>626.0</td>\n",
       "      <td>2</td>\n",
       "    </tr>\n",
       "    <tr>\n",
       "      <th>2</th>\n",
       "      <td>1515010</td>\n",
       "      <td>40.749889</td>\n",
       "      <td>-73.987579</td>\n",
       "      <td>1</td>\n",
       "      <td>1</td>\n",
       "      <td>2016-01-01 00:01:32</td>\n",
       "      <td>40.719131</td>\n",
       "      <td>-74.007088</td>\n",
       "      <td>False</td>\n",
       "      <td>True</td>\n",
       "      <td>2.70</td>\n",
       "      <td>NaN</td>\n",
       "      <td>2</td>\n",
       "    </tr>\n",
       "    <tr>\n",
       "      <th>3</th>\n",
       "      <td>32054</td>\n",
       "      <td>40.749062</td>\n",
       "      <td>-73.869568</td>\n",
       "      <td>1</td>\n",
       "      <td>2</td>\n",
       "      <td>2016-01-01 00:02:07</td>\n",
       "      <td>40.760712</td>\n",
       "      <td>-73.968460</td>\n",
       "      <td>False</td>\n",
       "      <td>False</td>\n",
       "      <td>5.69</td>\n",
       "      <td>1387.0</td>\n",
       "      <td>2</td>\n",
       "    </tr>\n",
       "    <tr>\n",
       "      <th>4</th>\n",
       "      <td>982081</td>\n",
       "      <td>40.743797</td>\n",
       "      <td>-73.985741</td>\n",
       "      <td>5</td>\n",
       "      <td>1</td>\n",
       "      <td>2016-01-01 00:02:41</td>\n",
       "      <td>40.742138</td>\n",
       "      <td>-74.004005</td>\n",
       "      <td>False</td>\n",
       "      <td>False</td>\n",
       "      <td>1.34</td>\n",
       "      <td>852.0</td>\n",
       "      <td>2</td>\n",
       "    </tr>\n",
       "    <tr>\n",
       "      <th>5</th>\n",
       "      <td>1547231</td>\n",
       "      <td>40.719200</td>\n",
       "      <td>-74.005127</td>\n",
       "      <td>1</td>\n",
       "      <td>1</td>\n",
       "      <td>2016-01-01 00:03:35</td>\n",
       "      <td>40.742577</td>\n",
       "      <td>-73.980392</td>\n",
       "      <td>False</td>\n",
       "      <td>True</td>\n",
       "      <td>2.70</td>\n",
       "      <td>NaN</td>\n",
       "      <td>1</td>\n",
       "    </tr>\n",
       "    <tr>\n",
       "      <th>6</th>\n",
       "      <td>1872196</td>\n",
       "      <td>40.703861</td>\n",
       "      <td>-73.930763</td>\n",
       "      <td>2</td>\n",
       "      <td>1</td>\n",
       "      <td>2016-01-01 00:04:18</td>\n",
       "      <td>40.718288</td>\n",
       "      <td>-74.000641</td>\n",
       "      <td>False</td>\n",
       "      <td>True</td>\n",
       "      <td>4.90</td>\n",
       "      <td>NaN</td>\n",
       "      <td>1</td>\n",
       "    </tr>\n",
       "    <tr>\n",
       "      <th>7</th>\n",
       "      <td>159096</td>\n",
       "      <td>40.768898</td>\n",
       "      <td>-73.985909</td>\n",
       "      <td>1</td>\n",
       "      <td>1</td>\n",
       "      <td>2016-01-01 00:04:39</td>\n",
       "      <td>40.735119</td>\n",
       "      <td>-74.006042</td>\n",
       "      <td>False</td>\n",
       "      <td>False</td>\n",
       "      <td>3.00</td>\n",
       "      <td>1033.0</td>\n",
       "      <td>1</td>\n",
       "    </tr>\n",
       "    <tr>\n",
       "      <th>8</th>\n",
       "      <td>335672</td>\n",
       "      <td>40.649349</td>\n",
       "      <td>-74.020340</td>\n",
       "      <td>5</td>\n",
       "      <td>1</td>\n",
       "      <td>2016-01-01 00:04:58</td>\n",
       "      <td>40.710529</td>\n",
       "      <td>-73.984673</td>\n",
       "      <td>False</td>\n",
       "      <td>False</td>\n",
       "      <td>8.79</td>\n",
       "      <td>1495.0</td>\n",
       "      <td>2</td>\n",
       "    </tr>\n",
       "    <tr>\n",
       "      <th>9</th>\n",
       "      <td>1108122</td>\n",
       "      <td>40.754318</td>\n",
       "      <td>-73.977547</td>\n",
       "      <td>2</td>\n",
       "      <td>1</td>\n",
       "      <td>2016-01-01 00:05:04</td>\n",
       "      <td>40.782616</td>\n",
       "      <td>-73.980721</td>\n",
       "      <td>False</td>\n",
       "      <td>True</td>\n",
       "      <td>2.76</td>\n",
       "      <td>NaN</td>\n",
       "      <td>2</td>\n",
       "    </tr>\n",
       "  </tbody>\n",
       "</table>\n",
       "</div>"
      ],
      "text/plain": [
       "        id  dropoff_latitude  dropoff_longitude  passenger_count  \\\n",
       "0   338479         40.716202         -74.014748                6   \n",
       "1   209890         40.712761         -74.009750                1   \n",
       "2  1515010         40.749889         -73.987579                1   \n",
       "3    32054         40.749062         -73.869568                1   \n",
       "4   982081         40.743797         -73.985741                5   \n",
       "5  1547231         40.719200         -74.005127                1   \n",
       "6  1872196         40.703861         -73.930763                2   \n",
       "7   159096         40.768898         -73.985909                1   \n",
       "8   335672         40.649349         -74.020340                5   \n",
       "9  1108122         40.754318         -73.977547                2   \n",
       "\n",
       "   payment_type     pickup_datetime  pickup_latitude  pickup_longitude  \\\n",
       "0             2 2016-01-01 00:00:45        40.726471        -73.994202   \n",
       "1             2 2016-01-01 00:00:52        40.744091        -73.995750   \n",
       "2             1 2016-01-01 00:01:32        40.719131        -74.007088   \n",
       "3             2 2016-01-01 00:02:07        40.760712        -73.968460   \n",
       "4             1 2016-01-01 00:02:41        40.742138        -74.004005   \n",
       "5             1 2016-01-01 00:03:35        40.742577        -73.980392   \n",
       "6             1 2016-01-01 00:04:18        40.718288        -74.000641   \n",
       "7             1 2016-01-01 00:04:39        40.735119        -74.006042   \n",
       "8             1 2016-01-01 00:04:58        40.710529        -73.984673   \n",
       "9             1 2016-01-01 00:05:04        40.782616        -73.980721   \n",
       "\n",
       "   store_and_fwd_flag  test_data  trip_distance  trip_duration  vendor_id  \n",
       "0               False      False           1.85          512.0          2  \n",
       "1               False      False           2.50          626.0          2  \n",
       "2               False       True           2.70            NaN          2  \n",
       "3               False      False           5.69         1387.0          2  \n",
       "4               False      False           1.34          852.0          2  \n",
       "5               False       True           2.70            NaN          1  \n",
       "6               False       True           4.90            NaN          1  \n",
       "7               False      False           3.00         1033.0          1  \n",
       "8               False      False           8.79         1495.0          2  \n",
       "9               False       True           2.76            NaN          2  "
      ]
     },
     "execution_count": 44,
     "metadata": {},
     "output_type": "execute_result"
    }
   ],
   "source": [
    "trips, passenger_cnt, vendors = load_nyc_taxi_data()\n",
    "trips.head(10)"
   ]
  },
  {
   "cell_type": "markdown",
   "metadata": {},
   "source": [
    "### Step 2: Prepare the Data \n",
    "Lets create entities and relationships. The three entities in this data are \n",
    "* trips \n",
    "* vendors (these are the cab)\n",
    "* passenger_cnt (a simple entity that has the unique number of passenger counts 1-8)\n",
    "\n",
    "This data has the following relationships\n",
    "* Vendors --> trips (the same vendor can have multiple trips - vendors is the ``parent_entity`` and trips it the child entity\n",
    "* passenger_cnt --> trips (the same passenger_cnt can appear in multiple trips. passenger_cnt is the ``parent_entity`` and trips is the child entity. \n"
   ]
  },
  {
   "cell_type": "code",
   "execution_count": 45,
   "metadata": {
    "collapsed": true
   },
   "outputs": [],
   "source": [
    "entities = {\n",
    "        \"trips\": (trips, \"id\", 'pickup_datetime' ),\n",
    "        \"vendors\": (vendors, \"vendor_id\"),\n",
    "        \"passenger_cnt\": (passenger_cnt,\"passenger_count\")\n",
    "        }\n",
    "\n",
    "relationships = [(\"vendors\", \"vendor_id\",\"trips\", \"vendor_id\"), \n",
    "                (\"passenger_cnt\", \"passenger_count\",\"trips\", \"passenger_count\")]"
   ]
  },
  {
   "cell_type": "markdown",
   "metadata": {},
   "source": [
    "<h2>Step 3: Create baseline features using DFS </h2>\n",
    "<p>Instead of manually creating features, such as month of <b>pickup_datetime</b>, we can let featuretools come up with them. </p>\n",
    "\n",
    "<p>Within featuretools there is a standard format for representing data that is used to set up predictions and build features.</p>\n"
   ]
  },
  {
   "cell_type": "markdown",
   "metadata": {},
   "source": [
    "<p>As a note: Featuretools will try to interpret the types of variables. We can override this interpretation by specifying the types. In this case, I wanted <b>passenger_count</b> to be a type of Ordinal, and <b>vendor_id</b> to be of type Categorical.</p>"
   ]
  },
  {
   "cell_type": "markdown",
   "metadata": {},
   "source": [
    "<p>We can specify the time for each instance of the target_entity to calculate features. The timestamp represents the last time data can be used for calculating features by DFS. This is specified using a dataframe of cutoff times. Below we can see that the cutoff time for each trip is the pickup time.</p>"
   ]
  },
  {
   "cell_type": "code",
   "execution_count": 46,
   "metadata": {
    "collapsed": true
   },
   "outputs": [],
   "source": [
    "cutoff_time = (trips[['id', 'pickup_datetime']])"
   ]
  },
  {
   "cell_type": "markdown",
   "metadata": {},
   "source": [
    "<p>Given this dataset, we would have about 2 million unique cutoff times. This is a good use case to use the approximate features parameter of DFS. In a large dataset, direct features that are aggregations on the prediction entity may not change much from cutoff time to cutoff time. Calculating the aggregation features at specific times every hour and using it for all cutoff times within the hour would save time and perhaps not lose much information. The approximate parameter in DFS lets you specify a window size to use when approximating these direct aggregation features.</p>"
   ]
  },
  {
   "cell_type": "code",
   "execution_count": 47,
   "metadata": {
    "collapsed": true
   },
   "outputs": [],
   "source": [
    "from featuretools.primitives import (Day, Hour, Minute, Month, Weekday, Week, Weekend)\n",
    "\n",
    "\n",
    "trans_primitives = [Minute, Hour, Day, Week, Month, Weekday, Weekend]\n",
    "\n",
    "features = ft.dfs(entities=entities,\n",
    "                   relationships=relationships,\n",
    "                   target_entity=\"trips\",\n",
    "                   trans_primitives=trans_primitives,\n",
    "                   agg_primitives=[],\n",
    "                   drop_contains=['trips.test_data'],\n",
    "                   features_only=True)"
   ]
  },
  {
   "cell_type": "markdown",
   "metadata": {},
   "source": [
    "<p>Here are the features created. Notice how some of the features match the manually created features in the previous notebook.</p>"
   ]
  },
  {
   "cell_type": "code",
   "execution_count": 48,
   "metadata": {},
   "outputs": [
    {
     "name": "stdout",
     "output_type": "stream",
     "text": [
      "30\n"
     ]
    }
   ],
   "source": [
    "print len(features)"
   ]
  },
  {
   "cell_type": "code",
   "execution_count": 49,
   "metadata": {},
   "outputs": [
    {
     "data": {
      "text/plain": [
       "[<Feature: passenger_count>,\n",
       " <Feature: dropoff_longitude>,\n",
       " <Feature: payment_type>,\n",
       " <Feature: store_and_fwd_flag>,\n",
       " <Feature: vendor_id>,\n",
       " <Feature: test_data>,\n",
       " <Feature: pickup_latitude>,\n",
       " <Feature: pickup_longitude>,\n",
       " <Feature: trip_duration>,\n",
       " <Feature: trip_distance>,\n",
       " <Feature: dropoff_latitude>,\n",
       " <Feature: DAY(pickup_datetime)>,\n",
       " <Feature: HOUR(pickup_datetime)>,\n",
       " <Feature: WEEKDAY(pickup_datetime)>,\n",
       " <Feature: MONTH(pickup_datetime)>,\n",
       " <Feature: WEEK(pickup_datetime)>,\n",
       " <Feature: IS_WEEKEND(pickup_datetime)>,\n",
       " <Feature: MINUTE(pickup_datetime)>,\n",
       " <Feature: passenger_cnt.WEEK(first_trips_time)>,\n",
       " <Feature: vendors.DAY(first_trips_time)>,\n",
       " <Feature: passenger_cnt.WEEKDAY(first_trips_time)>,\n",
       " <Feature: vendors.WEEKDAY(first_trips_time)>,\n",
       " <Feature: vendors.MONTH(first_trips_time)>,\n",
       " <Feature: passenger_cnt.DAY(first_trips_time)>,\n",
       " <Feature: passenger_cnt.MINUTE(first_trips_time)>]"
      ]
     },
     "execution_count": 49,
     "metadata": {},
     "output_type": "execute_result"
    }
   ],
   "source": [
    "features[:25]"
   ]
  },
  {
   "cell_type": "code",
   "execution_count": 50,
   "metadata": {
    "collapsed": true
   },
   "outputs": [],
   "source": [
    "feature_matrix = compute_features(features,cutoff_time)"
   ]
  },
  {
   "cell_type": "markdown",
   "metadata": {},
   "source": [
    "<h2>Step 3: Build the Model </h2>"
   ]
  },
  {
   "cell_type": "markdown",
   "metadata": {},
   "source": [
    "<p>We need to retrieve our labels for the train dataset, so we should merge our current feature matrix with the original dataset. </p>\n",
    "<p>We also get the log of the trip duration so that a more linear relationship can be found.</p>"
   ]
  },
  {
   "cell_type": "code",
   "execution_count": 55,
   "metadata": {},
   "outputs": [],
   "source": [
    "# separates the whole feature matrix into train data feature matrix, train data labels, and test data feature matrix \n",
    "X_train, y_train, X_test, y_test = utils.get_train_test_fm(feature_matrix)\n",
    "y_train = np.log(y_train.values + 1)"
   ]
  },
  {
   "cell_type": "code",
   "execution_count": 56,
   "metadata": {},
   "outputs": [
    {
     "name": "stdout",
     "output_type": "stream",
     "text": [
      "[0]\ttrain-rmse:5.00153\tvalid-rmse:5.00566\n",
      "Multiple eval metrics have been passed: 'valid-rmse' will be used for early stopping.\n",
      "\n",
      "Will train until valid-rmse hasn't improved in 60 rounds.\n",
      "[10]\ttrain-rmse:0.974724\tvalid-rmse:0.978011\n",
      "[20]\ttrain-rmse:0.444732\tvalid-rmse:0.448364\n",
      "[30]\ttrain-rmse:0.372997\tvalid-rmse:0.377877\n",
      "[40]\ttrain-rmse:0.343329\tvalid-rmse:0.349475\n",
      "[50]\ttrain-rmse:0.335098\tvalid-rmse:0.342742\n",
      "[60]\ttrain-rmse:0.330965\tvalid-rmse:0.339851\n",
      "[70]\ttrain-rmse:0.323858\tvalid-rmse:0.334437\n",
      "[80]\ttrain-rmse:0.319718\tvalid-rmse:0.331676\n",
      "[90]\ttrain-rmse:0.316818\tvalid-rmse:0.329861\n",
      "[100]\ttrain-rmse:0.313605\tvalid-rmse:0.327871\n",
      "[110]\ttrain-rmse:0.311416\tvalid-rmse:0.326687\n",
      "[120]\ttrain-rmse:0.308945\tvalid-rmse:0.325237\n",
      "[130]\ttrain-rmse:0.307372\tvalid-rmse:0.324473\n",
      "[140]\ttrain-rmse:0.30443\tvalid-rmse:0.322506\n",
      "[150]\ttrain-rmse:0.303034\tvalid-rmse:0.321743\n",
      "[160]\ttrain-rmse:0.301195\tvalid-rmse:0.3207\n",
      "[170]\ttrain-rmse:0.299955\tvalid-rmse:0.320197\n",
      "[180]\ttrain-rmse:0.29939\tvalid-rmse:0.319936\n",
      "[190]\ttrain-rmse:0.299087\tvalid-rmse:0.319765\n",
      "[200]\ttrain-rmse:0.298104\tvalid-rmse:0.319424\n",
      "[210]\ttrain-rmse:0.297393\tvalid-rmse:0.319271\n",
      "[220]\ttrain-rmse:0.297001\tvalid-rmse:0.319267\n",
      "Modeling RMSLE 0.31922\n"
     ]
    }
   ],
   "source": [
    "model = utils.train_xgb(X_train, labels)"
   ]
  },
  {
   "cell_type": "markdown",
   "metadata": {},
   "source": [
    "<h2>Step 4: Evalute on test data  </h2>\n"
   ]
  },
  {
   "cell_type": "code",
   "execution_count": 57,
   "metadata": {},
   "outputs": [
    {
     "data": {
      "text/html": [
       "<div>\n",
       "<style>\n",
       "    .dataframe thead tr:only-child th {\n",
       "        text-align: right;\n",
       "    }\n",
       "\n",
       "    .dataframe thead th {\n",
       "        text-align: left;\n",
       "    }\n",
       "\n",
       "    .dataframe tbody tr th {\n",
       "        vertical-align: top;\n",
       "    }\n",
       "</style>\n",
       "<table border=\"1\" class=\"dataframe\">\n",
       "  <thead>\n",
       "    <tr style=\"text-align: right;\">\n",
       "      <th></th>\n",
       "      <th>trip_duration</th>\n",
       "    </tr>\n",
       "    <tr>\n",
       "      <th>id</th>\n",
       "      <th></th>\n",
       "    </tr>\n",
       "  </thead>\n",
       "  <tbody>\n",
       "    <tr>\n",
       "      <th>1003399</th>\n",
       "      <td>1314.038940</td>\n",
       "    </tr>\n",
       "    <tr>\n",
       "      <th>1003423</th>\n",
       "      <td>371.636261</td>\n",
       "    </tr>\n",
       "    <tr>\n",
       "      <th>1003452</th>\n",
       "      <td>812.395630</td>\n",
       "    </tr>\n",
       "    <tr>\n",
       "      <th>1003467</th>\n",
       "      <td>1336.536865</td>\n",
       "    </tr>\n",
       "    <tr>\n",
       "      <th>1003491</th>\n",
       "      <td>1074.334717</td>\n",
       "    </tr>\n",
       "  </tbody>\n",
       "</table>\n",
       "</div>"
      ],
      "text/plain": [
       "         trip_duration\n",
       "id                    \n",
       "1003399    1314.038940\n",
       "1003423     371.636261\n",
       "1003452     812.395630\n",
       "1003467    1336.536865\n",
       "1003491    1074.334717"
      ]
     },
     "execution_count": 57,
     "metadata": {},
     "output_type": "execute_result"
    }
   ],
   "source": [
    "y_pred = utils.predict_xgb(model, X_test)\n",
    "y_pred.head(5)"
   ]
  },
  {
   "cell_type": "code",
   "execution_count": 62,
   "metadata": {},
   "outputs": [
    {
     "data": {
      "text/plain": [
       "id\n",
       "1003399   NaN\n",
       "1003423   NaN\n",
       "1003452   NaN\n",
       "1003467   NaN\n",
       "1003491   NaN\n",
       "1003528   NaN\n",
       "1003609   NaN\n",
       "1003800   NaN\n",
       "1003829   NaN\n",
       "1003846   NaN\n",
       "1003934   NaN\n",
       "1003935   NaN\n",
       "1003964   NaN\n",
       "1004047   NaN\n",
       "1004069   NaN\n",
       "1004090   NaN\n",
       "1004105   NaN\n",
       "1004113   NaN\n",
       "1004141   NaN\n",
       "1004205   NaN\n",
       "1004210   NaN\n",
       "1004232   NaN\n",
       "1004290   NaN\n",
       "1004307   NaN\n",
       "1004340   NaN\n",
       "1004343   NaN\n",
       "1004352   NaN\n",
       "1004358   NaN\n",
       "1004377   NaN\n",
       "1004383   NaN\n",
       "           ..\n",
       "2003025   NaN\n",
       "2003041   NaN\n",
       "2003047   NaN\n",
       "2003052   NaN\n",
       "2003058   NaN\n",
       "2003066   NaN\n",
       "2003068   NaN\n",
       "2003071   NaN\n",
       "2003098   NaN\n",
       "2003104   NaN\n",
       "2003109   NaN\n",
       "2003120   NaN\n",
       "2003144   NaN\n",
       "2003171   NaN\n",
       "2003174   NaN\n",
       "2003182   NaN\n",
       "2003184   NaN\n",
       "2003194   NaN\n",
       "2003210   NaN\n",
       "2003227   NaN\n",
       "2003228   NaN\n",
       "2003250   NaN\n",
       "2003287   NaN\n",
       "2003289   NaN\n",
       "2003301   NaN\n",
       "2003304   NaN\n",
       "2003305   NaN\n",
       "2003344   NaN\n",
       "2003348   NaN\n",
       "2003388   NaN\n",
       "Name: trip_duration, Length: 1000001, dtype: float64"
      ]
     },
     "execution_count": 62,
     "metadata": {},
     "output_type": "execute_result"
    }
   ],
   "source": [
    "y_test"
   ]
  },
  {
   "cell_type": "code",
   "execution_count": 61,
   "metadata": {},
   "outputs": [
    {
     "ename": "ValueError",
     "evalue": "Input contains NaN, infinity or a value too large for dtype('float64').",
     "output_type": "error",
     "traceback": [
      "\u001b[0;31m---------------------------------------------------------------------------\u001b[0m",
      "\u001b[0;31mValueError\u001b[0m                                Traceback (most recent call last)",
      "\u001b[0;32m<ipython-input-61-3289c61d0444>\u001b[0m in \u001b[0;36m<module>\u001b[0;34m()\u001b[0m\n\u001b[0;32m----> 1\u001b[0;31m \u001b[0mmean_squared_error\u001b[0m\u001b[0;34m(\u001b[0m\u001b[0my_test\u001b[0m\u001b[0;34m,\u001b[0m \u001b[0my_pred\u001b[0m\u001b[0;34m[\u001b[0m\u001b[0;34m'trip_duration'\u001b[0m\u001b[0;34m]\u001b[0m\u001b[0;34m)\u001b[0m\u001b[0;34m\u001b[0m\u001b[0m\n\u001b[0m",
      "\u001b[0;32m/DAI-Lab-Github/NYC-Taxi-Demo/ft/lib/python2.7/site-packages/sklearn/metrics/regression.pyc\u001b[0m in \u001b[0;36mmean_squared_error\u001b[0;34m(y_true, y_pred, sample_weight, multioutput)\u001b[0m\n\u001b[1;32m    236\u001b[0m     \"\"\"\n\u001b[1;32m    237\u001b[0m     y_type, y_true, y_pred, multioutput = _check_reg_targets(\n\u001b[0;32m--> 238\u001b[0;31m         y_true, y_pred, multioutput)\n\u001b[0m\u001b[1;32m    239\u001b[0m     output_errors = np.average((y_true - y_pred) ** 2, axis=0,\n\u001b[1;32m    240\u001b[0m                                weights=sample_weight)\n",
      "\u001b[0;32m/DAI-Lab-Github/NYC-Taxi-Demo/ft/lib/python2.7/site-packages/sklearn/metrics/regression.pyc\u001b[0m in \u001b[0;36m_check_reg_targets\u001b[0;34m(y_true, y_pred, multioutput)\u001b[0m\n\u001b[1;32m     74\u001b[0m     \"\"\"\n\u001b[1;32m     75\u001b[0m     \u001b[0mcheck_consistent_length\u001b[0m\u001b[0;34m(\u001b[0m\u001b[0my_true\u001b[0m\u001b[0;34m,\u001b[0m \u001b[0my_pred\u001b[0m\u001b[0;34m)\u001b[0m\u001b[0;34m\u001b[0m\u001b[0m\n\u001b[0;32m---> 76\u001b[0;31m     \u001b[0my_true\u001b[0m \u001b[0;34m=\u001b[0m \u001b[0mcheck_array\u001b[0m\u001b[0;34m(\u001b[0m\u001b[0my_true\u001b[0m\u001b[0;34m,\u001b[0m \u001b[0mensure_2d\u001b[0m\u001b[0;34m=\u001b[0m\u001b[0mFalse\u001b[0m\u001b[0;34m)\u001b[0m\u001b[0;34m\u001b[0m\u001b[0m\n\u001b[0m\u001b[1;32m     77\u001b[0m     \u001b[0my_pred\u001b[0m \u001b[0;34m=\u001b[0m \u001b[0mcheck_array\u001b[0m\u001b[0;34m(\u001b[0m\u001b[0my_pred\u001b[0m\u001b[0;34m,\u001b[0m \u001b[0mensure_2d\u001b[0m\u001b[0;34m=\u001b[0m\u001b[0mFalse\u001b[0m\u001b[0;34m)\u001b[0m\u001b[0;34m\u001b[0m\u001b[0m\n\u001b[1;32m     78\u001b[0m \u001b[0;34m\u001b[0m\u001b[0m\n",
      "\u001b[0;32m/DAI-Lab-Github/NYC-Taxi-Demo/ft/lib/python2.7/site-packages/sklearn/utils/validation.pyc\u001b[0m in \u001b[0;36mcheck_array\u001b[0;34m(array, accept_sparse, dtype, order, copy, force_all_finite, ensure_2d, allow_nd, ensure_min_samples, ensure_min_features, warn_on_dtype, estimator)\u001b[0m\n\u001b[1;32m    420\u001b[0m                              % (array.ndim, estimator_name))\n\u001b[1;32m    421\u001b[0m         \u001b[0;32mif\u001b[0m \u001b[0mforce_all_finite\u001b[0m\u001b[0;34m:\u001b[0m\u001b[0;34m\u001b[0m\u001b[0m\n\u001b[0;32m--> 422\u001b[0;31m             \u001b[0m_assert_all_finite\u001b[0m\u001b[0;34m(\u001b[0m\u001b[0marray\u001b[0m\u001b[0;34m)\u001b[0m\u001b[0;34m\u001b[0m\u001b[0m\n\u001b[0m\u001b[1;32m    423\u001b[0m \u001b[0;34m\u001b[0m\u001b[0m\n\u001b[1;32m    424\u001b[0m     \u001b[0mshape_repr\u001b[0m \u001b[0;34m=\u001b[0m \u001b[0m_shape_repr\u001b[0m\u001b[0;34m(\u001b[0m\u001b[0marray\u001b[0m\u001b[0;34m.\u001b[0m\u001b[0mshape\u001b[0m\u001b[0;34m)\u001b[0m\u001b[0;34m\u001b[0m\u001b[0m\n",
      "\u001b[0;32m/DAI-Lab-Github/NYC-Taxi-Demo/ft/lib/python2.7/site-packages/sklearn/utils/validation.pyc\u001b[0m in \u001b[0;36m_assert_all_finite\u001b[0;34m(X)\u001b[0m\n\u001b[1;32m     41\u001b[0m             and not np.isfinite(X).all()):\n\u001b[1;32m     42\u001b[0m         raise ValueError(\"Input contains NaN, infinity\"\n\u001b[0;32m---> 43\u001b[0;31m                          \" or a value too large for %r.\" % X.dtype)\n\u001b[0m\u001b[1;32m     44\u001b[0m \u001b[0;34m\u001b[0m\u001b[0m\n\u001b[1;32m     45\u001b[0m \u001b[0;34m\u001b[0m\u001b[0m\n",
      "\u001b[0;31mValueError\u001b[0m: Input contains NaN, infinity or a value too large for dtype('float64')."
     ]
    }
   ],
   "source": [
    "mean_squared_error(y_test, y_pred['trip_duration'])"
   ]
  },
  {
   "cell_type": "markdown",
   "metadata": {},
   "source": [
    "<h2>Additional Analysis</h2>\n",
    "<p>Let's look at how important each feature was for the model.</p>"
   ]
  },
  {
   "cell_type": "code",
   "execution_count": 18,
   "metadata": {
    "scrolled": false
   },
   "outputs": [
    {
     "data": {
      "text/html": [
       "<div>\n",
       "<style>\n",
       "    .dataframe thead tr:only-child th {\n",
       "        text-align: right;\n",
       "    }\n",
       "\n",
       "    .dataframe thead th {\n",
       "        text-align: left;\n",
       "    }\n",
       "\n",
       "    .dataframe tbody tr th {\n",
       "        vertical-align: top;\n",
       "    }\n",
       "</style>\n",
       "<table border=\"1\" class=\"dataframe\">\n",
       "  <thead>\n",
       "    <tr style=\"text-align: right;\">\n",
       "      <th></th>\n",
       "      <th>feature_name</th>\n",
       "      <th>importance</th>\n",
       "    </tr>\n",
       "  </thead>\n",
       "  <tbody>\n",
       "    <tr>\n",
       "      <th>92</th>\n",
       "      <td>dropoff_latitude</td>\n",
       "      <td>3598.0</td>\n",
       "    </tr>\n",
       "    <tr>\n",
       "      <th>86</th>\n",
       "      <td>dropoff_longitude</td>\n",
       "      <td>3524.0</td>\n",
       "    </tr>\n",
       "    <tr>\n",
       "      <th>90</th>\n",
       "      <td>pickup_latitude</td>\n",
       "      <td>3423.0</td>\n",
       "    </tr>\n",
       "    <tr>\n",
       "      <th>87</th>\n",
       "      <td>pickup_longitude</td>\n",
       "      <td>2752.0</td>\n",
       "    </tr>\n",
       "    <tr>\n",
       "      <th>91</th>\n",
       "      <td>trip_distance</td>\n",
       "      <td>2301.0</td>\n",
       "    </tr>\n",
       "    <tr>\n",
       "      <th>75</th>\n",
       "      <td>HOUR(pickup_datetime)</td>\n",
       "      <td>1684.0</td>\n",
       "    </tr>\n",
       "    <tr>\n",
       "      <th>83</th>\n",
       "      <td>id.1</td>\n",
       "      <td>1370.0</td>\n",
       "    </tr>\n",
       "    <tr>\n",
       "      <th>80</th>\n",
       "      <td>WEEK(pickup_datetime)</td>\n",
       "      <td>1126.0</td>\n",
       "    </tr>\n",
       "    <tr>\n",
       "      <th>76</th>\n",
       "      <td>DAY(pickup_datetime)</td>\n",
       "      <td>970.0</td>\n",
       "    </tr>\n",
       "    <tr>\n",
       "      <th>78</th>\n",
       "      <td>MINUTE(pickup_datetime)</td>\n",
       "      <td>959.0</td>\n",
       "    </tr>\n",
       "    <tr>\n",
       "      <th>73</th>\n",
       "      <td>WEEKDAY(pickup_datetime)</td>\n",
       "      <td>724.0</td>\n",
       "    </tr>\n",
       "    <tr>\n",
       "      <th>84</th>\n",
       "      <td>payment_type</td>\n",
       "      <td>574.0</td>\n",
       "    </tr>\n",
       "    <tr>\n",
       "      <th>77</th>\n",
       "      <td>MONTH(pickup_datetime)</td>\n",
       "      <td>382.0</td>\n",
       "    </tr>\n",
       "    <tr>\n",
       "      <th>107</th>\n",
       "      <td>passenger_cnt.SKEW(trips.id.1)</td>\n",
       "      <td>285.0</td>\n",
       "    </tr>\n",
       "    <tr>\n",
       "      <th>39</th>\n",
       "      <td>vendors.SUM(trips.dropoff_longitude)</td>\n",
       "      <td>249.0</td>\n",
       "    </tr>\n",
       "    <tr>\n",
       "      <th>81</th>\n",
       "      <td>IS_WEEKEND(pickup_datetime)</td>\n",
       "      <td>244.0</td>\n",
       "    </tr>\n",
       "    <tr>\n",
       "      <th>48</th>\n",
       "      <td>vendors.SUM(trips.pickup_longitude)</td>\n",
       "      <td>216.0</td>\n",
       "    </tr>\n",
       "    <tr>\n",
       "      <th>74</th>\n",
       "      <td>passenger_cnt.SKEW(trips.trip_distance)</td>\n",
       "      <td>202.0</td>\n",
       "    </tr>\n",
       "    <tr>\n",
       "      <th>37</th>\n",
       "      <td>passenger_cnt.STD(trips.payment_type)</td>\n",
       "      <td>189.0</td>\n",
       "    </tr>\n",
       "    <tr>\n",
       "      <th>35</th>\n",
       "      <td>passenger_cnt.STD(trips.id.1)</td>\n",
       "      <td>188.0</td>\n",
       "    </tr>\n",
       "  </tbody>\n",
       "</table>\n",
       "</div>"
      ],
      "text/plain": [
       "                                feature_name  importance\n",
       "92                          dropoff_latitude      3598.0\n",
       "86                         dropoff_longitude      3524.0\n",
       "90                           pickup_latitude      3423.0\n",
       "87                          pickup_longitude      2752.0\n",
       "91                             trip_distance      2301.0\n",
       "75                     HOUR(pickup_datetime)      1684.0\n",
       "83                                      id.1      1370.0\n",
       "80                     WEEK(pickup_datetime)      1126.0\n",
       "76                      DAY(pickup_datetime)       970.0\n",
       "78                   MINUTE(pickup_datetime)       959.0\n",
       "73                  WEEKDAY(pickup_datetime)       724.0\n",
       "84                              payment_type       574.0\n",
       "77                    MONTH(pickup_datetime)       382.0\n",
       "107           passenger_cnt.SKEW(trips.id.1)       285.0\n",
       "39      vendors.SUM(trips.dropoff_longitude)       249.0\n",
       "81               IS_WEEKEND(pickup_datetime)       244.0\n",
       "48       vendors.SUM(trips.pickup_longitude)       216.0\n",
       "74   passenger_cnt.SKEW(trips.trip_distance)       202.0\n",
       "37     passenger_cnt.STD(trips.payment_type)       189.0\n",
       "35             passenger_cnt.STD(trips.id.1)       188.0"
      ]
     },
     "execution_count": 18,
     "metadata": {},
     "output_type": "execute_result"
    }
   ],
   "source": [
    "feature_names = X_train.columns.values\n",
    "ft_importances = utils.feature_importances(model, feature_names)\n",
    "ft_importances[:20]"
   ]
  },
  {
   "cell_type": "code",
   "execution_count": null,
   "metadata": {
    "collapsed": true
   },
   "outputs": [],
   "source": []
  }
 ],
 "metadata": {
  "kernelspec": {
   "display_name": "ft",
   "language": "python",
   "name": "ft"
  },
  "language_info": {
   "codemirror_mode": {
    "name": "ipython",
    "version": 2
   },
   "file_extension": ".py",
   "mimetype": "text/x-python",
   "name": "python",
   "nbconvert_exporter": "python",
   "pygments_lexer": "ipython2",
   "version": "2.7.10"
  }
 },
 "nbformat": 4,
 "nbformat_minor": 2
}
